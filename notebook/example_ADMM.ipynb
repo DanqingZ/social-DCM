{
 "cells": [
  {
   "cell_type": "code",
   "execution_count": 1,
   "metadata": {
    "collapsed": false
   },
   "outputs": [
    {
     "name": "stdout",
     "output_type": "stream",
     "text": [
      "/Users/danqing0703/Google_Drive/research_2017Spring/code_review/social-DCM\n"
     ]
    }
   ],
   "source": [
    "cd ../"
   ]
  },
  {
   "cell_type": "markdown",
   "metadata": {},
   "source": [
    "# Load Data"
   ]
  },
  {
   "cell_type": "code",
   "execution_count": 2,
   "metadata": {
    "collapsed": false
   },
   "outputs": [],
   "source": [
    "%load_ext autoreload\n",
    "%autoreload 2\n",
    "from __future__ import division\n",
    "import random\n",
    "import numpy as np\n",
    "import numpy.linalg as alg\n",
    "import scipy as spy\n",
    "import networkx as nx\n",
    "\n",
    "import time\n",
    "from itertools import *\n",
    "import sys\n",
    "import numpy.linalg as LA\n",
    "import pickle\n",
    "\n",
    "from src.models.GibbsSampler_networkx import GibbsSampler\n",
    "from src.models.ADMM_fully_distributed import ADMM_fully_distributed"
   ]
  },
  {
   "cell_type": "code",
   "execution_count": 3,
   "metadata": {
    "collapsed": false
   },
   "outputs": [
    {
     "name": "stdout",
     "output_type": "stream",
     "text": [
      "/Users/danqing0703/Google_Drive/research_2017Spring/code_review/social-DCM/data\n"
     ]
    }
   ],
   "source": [
    "cd data/"
   ]
  },
  {
   "cell_type": "code",
   "execution_count": 4,
   "metadata": {
    "collapsed": false
   },
   "outputs": [],
   "source": [
    "X = pickle.load( open( \"X.p\", \"rb\" ) )\n",
    "y = pickle.load( open( \"y.p\", \"rb\" ) )\n",
    "b = pickle.load( open( \"b.p\", \"rb\" ) )\n",
    "temp = pickle.load( open( \"temp.p\", \"rb\" ) )\n",
    "pos_node = pickle.load( open( \"pos_node.p\", \"rb\" ) )"
   ]
  },
  {
   "cell_type": "code",
   "execution_count": 5,
   "metadata": {
    "collapsed": true
   },
   "outputs": [],
   "source": [
    "# set hyperparameter Lambda and Rho\n",
    "Lambda = 0.1\n",
    "Rho = 1"
   ]
  },
  {
   "cell_type": "code",
   "execution_count": 6,
   "metadata": {
    "collapsed": false
   },
   "outputs": [],
   "source": [
    "A = ADMM_fully_distributed(X, y, b,pos_node,temp,Lambda, Rho)"
   ]
  },
  {
   "cell_type": "code",
   "execution_count": 7,
   "metadata": {
    "collapsed": false
   },
   "outputs": [
    {
     "name": "stdout",
     "output_type": "stream",
     "text": [
      "iteration =  0 objective =  29.4731496198\n",
      "iteration =  1 objective =  29.3168729163\n",
      "iteration =  2 objective =  27.7711427593\n",
      "iteration =  3 objective =  26.4592165221\n",
      "iteration =  4 objective =  25.3513519807\n",
      "iteration =  5 objective =  24.4142601313\n",
      "iteration =  6 objective =  23.6183370122\n",
      "iteration =  7 objective =  22.9387226418\n",
      "iteration =  8 objective =  22.355114756\n",
      "iteration =  9 objective =  21.8511140042\n",
      "iteration =  10 objective =  21.4134993411\n",
      "iteration =  11 objective =  21.0315910336\n",
      "iteration =  12 objective =  20.6967170458\n",
      "iteration =  13 objective =  20.4017913693\n",
      "iteration =  14 objective =  20.1409899231\n",
      "iteration =  15 objective =  19.9094925996\n",
      "iteration =  16 objective =  19.7032837319\n",
      "iteration =  17 objective =  19.5189991863\n",
      "iteration =  18 objective =  19.3538026593\n",
      "iteration =  19 objective =  19.2052904822\n"
     ]
    }
   ],
   "source": [
    "import time\n",
    "\n",
    "start = time.time()\n",
    "A.runADMM_Grid(20)"
   ]
  },
  {
   "cell_type": "code",
   "execution_count": null,
   "metadata": {
    "collapsed": false
   },
   "outputs": [],
   "source": []
  },
  {
   "cell_type": "code",
   "execution_count": null,
   "metadata": {
    "collapsed": true
   },
   "outputs": [],
   "source": []
  },
  {
   "cell_type": "code",
   "execution_count": null,
   "metadata": {
    "collapsed": true
   },
   "outputs": [],
   "source": []
  }
 ],
 "metadata": {
  "anaconda-cloud": {},
  "kernelspec": {
   "display_name": "Python [Root]",
   "language": "python",
   "name": "Python [Root]"
  },
  "language_info": {
   "codemirror_mode": {
    "name": "ipython",
    "version": 2
   },
   "file_extension": ".py",
   "mimetype": "text/x-python",
   "name": "python",
   "nbconvert_exporter": "python",
   "pygments_lexer": "ipython2",
   "version": "2.7.12"
  }
 },
 "nbformat": 4,
 "nbformat_minor": 0
}
